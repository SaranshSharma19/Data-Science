{
 "cells": [
  {
   "cell_type": "code",
   "execution_count": 1,
   "id": "50e38b59",
   "metadata": {},
   "outputs": [],
   "source": [
    "# Importing Library Numpy\n",
    "import numpy as np    # np alias"
   ]
  },
  {
   "cell_type": "code",
   "execution_count": 2,
   "id": "44b76097",
   "metadata": {},
   "outputs": [
    {
     "name": "stdout",
     "output_type": "stream",
     "text": [
      "[1 2 3 4]\n",
      "<class 'numpy.ndarray'>\n"
     ]
    }
   ],
   "source": [
    "x = np.array([1,2,3,4])\n",
    "print(x)\n",
    "print(type(x))"
   ]
  },
  {
   "cell_type": "code",
   "execution_count": 7,
   "id": "26144bd7",
   "metadata": {},
   "outputs": [
    {
     "name": "stdout",
     "output_type": "stream",
     "text": [
      "722 ns ± 94.2 ns per loop (mean ± std. dev. of 7 runs, 1,000,000 loops each)\n"
     ]
    }
   ],
   "source": [
    "%timeit [j*4 for j in range(1,6)]"
   ]
  },
  {
   "cell_type": "code",
   "execution_count": 8,
   "id": "2ceb3789",
   "metadata": {},
   "outputs": [
    {
     "name": "stdout",
     "output_type": "stream",
     "text": [
      "1.83 µs ± 160 ns per loop (mean ± std. dev. of 7 runs, 1,000,000 loops each)\n"
     ]
    }
   ],
   "source": [
    "%timeit np.arange(1,9)*4"
   ]
  },
  {
   "cell_type": "code",
   "execution_count": 2,
   "id": "65d4bafc",
   "metadata": {},
   "outputs": [
    {
     "name": "stdout",
     "output_type": "stream",
     "text": [
      "<class 'numpy.ndarray'>\n",
      "(4,)\n"
     ]
    }
   ],
   "source": [
    "lst = [1,2,3,4]\n",
    "arr = np.array(lst)\n",
    "print(type(arr))\n",
    "print(arr.shape)"
   ]
  },
  {
   "cell_type": "code",
   "execution_count": 3,
   "id": "b10d357e",
   "metadata": {},
   "outputs": [],
   "source": [
    "lst1 = [1,2,3,4,5]\n",
    "lst2 = [2,3,4,5,6]\n",
    "lst3 = [3,4,5,6,7]\n",
    "\n",
    "arr1 = np.array([lst1,lst2,lst3])"
   ]
  },
  {
   "cell_type": "code",
   "execution_count": 4,
   "id": "78b9478f",
   "metadata": {},
   "outputs": [
    {
     "data": {
      "text/plain": [
       "(3, 5)"
      ]
     },
     "execution_count": 4,
     "metadata": {},
     "output_type": "execute_result"
    }
   ],
   "source": [
    "arr1.shape     # Output - (Number of Rows,Number of Colum)"
   ]
  },
  {
   "cell_type": "code",
   "execution_count": 6,
   "id": "79bdcf49",
   "metadata": {},
   "outputs": [
    {
     "data": {
      "text/plain": [
       "array([2, 3])"
      ]
     },
     "execution_count": 6,
     "metadata": {},
     "output_type": "execute_result"
    }
   ],
   "source": [
    "# Indexing\n",
    "arr[1:3]"
   ]
  },
  {
   "cell_type": "code",
   "execution_count": 7,
   "id": "bd4db236",
   "metadata": {},
   "outputs": [
    {
     "data": {
      "text/plain": [
       "array([2, 3, 4])"
      ]
     },
     "execution_count": 7,
     "metadata": {},
     "output_type": "execute_result"
    }
   ],
   "source": [
    "arr1[:,1]     # Har Row ka 1 Column print kar dega [:,1] , se phela denote rows and , ke baad denote column"
   ]
  },
  {
   "cell_type": "code",
   "execution_count": 8,
   "id": "8b8f56ea",
   "metadata": {},
   "outputs": [
    {
     "data": {
      "text/plain": [
       "array([[3, 4],\n",
       "       [4, 5]])"
      ]
     },
     "execution_count": 8,
     "metadata": {},
     "output_type": "execute_result"
    }
   ],
   "source": [
    "arr1[1:,1:3]"
   ]
  },
  {
   "cell_type": "code",
   "execution_count": 11,
   "id": "6962b037",
   "metadata": {},
   "outputs": [
    {
     "data": {
      "text/plain": [
       "array([1, 2, 3, 4, 5])"
      ]
     },
     "execution_count": 11,
     "metadata": {},
     "output_type": "execute_result"
    }
   ],
   "source": [
    "# EDA POV\n",
    "arr=[1,2,3,4,5]\n",
    "arr=np.array(arr)\n",
    "arr"
   ]
  },
  {
   "cell_type": "code",
   "execution_count": 12,
   "id": "de4798aa",
   "metadata": {},
   "outputs": [
    {
     "data": {
      "text/plain": [
       "array([ True, False, False, False, False])"
      ]
     },
     "execution_count": 12,
     "metadata": {},
     "output_type": "execute_result"
    }
   ],
   "source": [
    "arr<2"
   ]
  },
  {
   "cell_type": "code",
   "execution_count": 13,
   "id": "76766773",
   "metadata": {},
   "outputs": [
    {
     "data": {
      "text/plain": [
       "array([False,  True,  True,  True,  True])"
      ]
     },
     "execution_count": 13,
     "metadata": {},
     "output_type": "execute_result"
    }
   ],
   "source": [
    "arr>=2"
   ]
  },
  {
   "cell_type": "code",
   "execution_count": 14,
   "id": "5c386a82",
   "metadata": {},
   "outputs": [
    {
     "data": {
      "text/plain": [
       "array([1, 2])"
      ]
     },
     "execution_count": 14,
     "metadata": {},
     "output_type": "execute_result"
    }
   ],
   "source": [
    "arr[arr<=2]"
   ]
  },
  {
   "cell_type": "code",
   "execution_count": 15,
   "id": "61836a4d",
   "metadata": {},
   "outputs": [
    {
     "data": {
      "text/plain": [
       "array([[1, 2, 3, 4, 5],\n",
       "       [2, 3, 4, 5, 6],\n",
       "       [3, 4, 5, 6, 7]])"
      ]
     },
     "execution_count": 15,
     "metadata": {},
     "output_type": "execute_result"
    }
   ],
   "source": [
    "arr1"
   ]
  },
  {
   "cell_type": "code",
   "execution_count": 17,
   "id": "9e4aba82",
   "metadata": {},
   "outputs": [
    {
     "data": {
      "text/plain": [
       "array([[1],\n",
       "       [2],\n",
       "       [3],\n",
       "       [4],\n",
       "       [5],\n",
       "       [2],\n",
       "       [3],\n",
       "       [4],\n",
       "       [5],\n",
       "       [6],\n",
       "       [3],\n",
       "       [4],\n",
       "       [5],\n",
       "       [6],\n",
       "       [7]])"
      ]
     },
     "execution_count": 17,
     "metadata": {},
     "output_type": "execute_result"
    }
   ],
   "source": [
    "arr1.reshape(15,1)"
   ]
  },
  {
   "cell_type": "code",
   "execution_count": 18,
   "id": "fa7b9ee3",
   "metadata": {},
   "outputs": [
    {
     "data": {
      "text/plain": [
       "array([[1, 2, 3, 4, 5],\n",
       "       [2, 3, 4, 5, 6],\n",
       "       [3, 4, 5, 6, 7]])"
      ]
     },
     "execution_count": 18,
     "metadata": {},
     "output_type": "execute_result"
    }
   ],
   "source": [
    "arr1.reshape(3,5)"
   ]
  },
  {
   "cell_type": "code",
   "execution_count": 21,
   "id": "e6aa6bfa",
   "metadata": {},
   "outputs": [
    {
     "data": {
      "text/plain": [
       "array([[ 1,  2,  3,  4,  5],\n",
       "       [ 6,  7,  8,  9, 10]])"
      ]
     },
     "execution_count": 21,
     "metadata": {},
     "output_type": "execute_result"
    }
   ],
   "source": [
    "# Mechanism to create an array\n",
    "np.arange(1,11,1).reshape(2,5)"
   ]
  },
  {
   "cell_type": "code",
   "execution_count": 22,
   "id": "8d5dd07f",
   "metadata": {},
   "outputs": [
    {
     "data": {
      "text/plain": [
       "array([ 1,  4,  9, 16, 25])"
      ]
     },
     "execution_count": 22,
     "metadata": {},
     "output_type": "execute_result"
    }
   ],
   "source": [
    "# Multiplication\n",
    "arr*arr"
   ]
  },
  {
   "cell_type": "code",
   "execution_count": 23,
   "id": "d51c8482",
   "metadata": {},
   "outputs": [
    {
     "data": {
      "text/plain": [
       "array([[ 2,  4,  6,  8, 10],\n",
       "       [ 4,  6,  8, 10, 12],\n",
       "       [ 6,  8, 10, 12, 14]])"
      ]
     },
     "execution_count": 23,
     "metadata": {},
     "output_type": "execute_result"
    }
   ],
   "source": [
    "arr1*2"
   ]
  },
  {
   "cell_type": "code",
   "execution_count": 24,
   "id": "d57aafc9",
   "metadata": {},
   "outputs": [
    {
     "data": {
      "text/plain": [
       "array([[ 1,  4,  9, 16, 25],\n",
       "       [ 4,  9, 16, 25, 36],\n",
       "       [ 9, 16, 25, 36, 49]])"
      ]
     },
     "execution_count": 24,
     "metadata": {},
     "output_type": "execute_result"
    }
   ],
   "source": [
    "arr1*arr1"
   ]
  },
  {
   "cell_type": "code",
   "execution_count": 28,
   "id": "f88d15af",
   "metadata": {},
   "outputs": [
    {
     "data": {
      "text/plain": [
       "array([[1., 1., 1.],\n",
       "       [1., 1., 1.],\n",
       "       [1., 1., 1.],\n",
       "       [1., 1., 1.],\n",
       "       [1., 1., 1.]])"
      ]
     },
     "execution_count": 28,
     "metadata": {},
     "output_type": "execute_result"
    }
   ],
   "source": [
    "# ones\n",
    "np.ones((5,3))"
   ]
  },
  {
   "cell_type": "code",
   "execution_count": 29,
   "id": "509af5c2",
   "metadata": {},
   "outputs": [
    {
     "data": {
      "text/plain": [
       "array([1, 1])"
      ]
     },
     "execution_count": 29,
     "metadata": {},
     "output_type": "execute_result"
    }
   ],
   "source": [
    "np.ones_like((5,3))"
   ]
  },
  {
   "cell_type": "code",
   "execution_count": 30,
   "id": "aa0a0d12",
   "metadata": {},
   "outputs": [
    {
     "data": {
      "text/plain": [
       "array([[0., 0., 0.],\n",
       "       [0., 0., 0.],\n",
       "       [0., 0., 0.],\n",
       "       [0., 0., 0.],\n",
       "       [0., 0., 0.]])"
      ]
     },
     "execution_count": 30,
     "metadata": {},
     "output_type": "execute_result"
    }
   ],
   "source": [
    "np.zeros((5,3))"
   ]
  },
  {
   "cell_type": "code",
   "execution_count": 33,
   "id": "a75bff25",
   "metadata": {},
   "outputs": [
    {
     "data": {
      "text/plain": [
       "array([0, 0])"
      ]
     },
     "execution_count": 33,
     "metadata": {},
     "output_type": "execute_result"
    }
   ],
   "source": [
    "np.zeros_like((9,3))"
   ]
  },
  {
   "cell_type": "code",
   "execution_count": 40,
   "id": "a306cdb4",
   "metadata": {},
   "outputs": [
    {
     "data": {
      "text/plain": [
       "array([[41, 49],\n",
       "       [34, 10]])"
      ]
     },
     "execution_count": 40,
     "metadata": {},
     "output_type": "execute_result"
    }
   ],
   "source": [
    "np.random.randint(10,50,4).reshape(2,2)"
   ]
  },
  {
   "cell_type": "code",
   "execution_count": 42,
   "id": "96fc3dee",
   "metadata": {},
   "outputs": [
    {
     "data": {
      "text/plain": [
       "array([[ 0.32254869, -0.05938188,  3.72097284],\n",
       "       [-0.87188507, -0.30408432,  1.18539205],\n",
       "       [ 0.89289287,  0.5238463 , -0.55472547],\n",
       "       [-1.40816035,  1.57783963, -0.26951636],\n",
       "       [-0.2426711 , -1.03299822,  0.81800397]])"
      ]
     },
     "execution_count": 42,
     "metadata": {},
     "output_type": "execute_result"
    }
   ],
   "source": [
    "np.random.randn(5,3)"
   ]
  },
  {
   "cell_type": "code",
   "execution_count": 43,
   "id": "a48ea9cf",
   "metadata": {},
   "outputs": [
    {
     "data": {
      "text/plain": [
       "array([[0.88692256, 0.55857179, 0.03262095],\n",
       "       [0.00625772, 0.74229907, 0.07746393],\n",
       "       [0.0657504 , 0.53191787, 0.74650823],\n",
       "       [0.27736361, 0.45670743, 0.31230206]])"
      ]
     },
     "execution_count": 43,
     "metadata": {},
     "output_type": "execute_result"
    }
   ],
   "source": [
    "np.random.random_sample((4,3))"
   ]
  },
  {
   "cell_type": "code",
   "execution_count": 5,
   "id": "ddfcf743",
   "metadata": {},
   "outputs": [
    {
     "data": {
      "text/plain": [
       "array([[1, 1, 1],\n",
       "       [1, 1, 1],\n",
       "       [1, 1, 1],\n",
       "       [1, 1, 1],\n",
       "       [1, 1, 1]])"
      ]
     },
     "execution_count": 5,
     "metadata": {},
     "output_type": "execute_result"
    }
   ],
   "source": [
    "np.ones((5,3),dtype=int)"
   ]
  },
  {
   "cell_type": "code",
   "execution_count": 1,
   "id": "d9e3b04f",
   "metadata": {},
   "outputs": [
    {
     "name": "stdout",
     "output_type": "stream",
     "text": [
      "1.97 µs ± 52.2 ns per loop (mean ± std. dev. of 7 runs, 100,000 loops each)\n"
     ]
    }
   ],
   "source": [
    "%timeit [j**4 for j in range(1,9)]"
   ]
  },
  {
   "cell_type": "code",
   "execution_count": 6,
   "id": "2c1fad4a",
   "metadata": {},
   "outputs": [
    {
     "name": "stdout",
     "output_type": "stream",
     "text": [
      "1.38 µs ± 18.1 ns per loop (mean ± std. dev. of 7 runs, 1,000,000 loops each)\n"
     ]
    }
   ],
   "source": [
    "%timeit np.arange(1,9)**4"
   ]
  },
  {
   "cell_type": "code",
   "execution_count": 7,
   "id": "e172e42f",
   "metadata": {},
   "outputs": [
    {
     "name": "stdout",
     "output_type": "stream",
     "text": [
      "[   1   16   81  256  625 1296 2401 4096]\n"
     ]
    }
   ],
   "source": [
    "x = np.arange(1,9)**4\n",
    "print(x)"
   ]
  },
  {
   "cell_type": "markdown",
   "id": "38ef4574",
   "metadata": {},
   "source": [
    "# Array"
   ]
  },
  {
   "cell_type": "code",
   "execution_count": 1,
   "id": "2cd2120e",
   "metadata": {},
   "outputs": [
    {
     "name": "stdout",
     "output_type": "stream",
     "text": [
      "[1 2 3 4]\n"
     ]
    }
   ],
   "source": [
    "import numpy as np\n",
    "x = [1,2,3,4]\n",
    "y = np.array(x)\n",
    "print(y)"
   ]
  },
  {
   "cell_type": "code",
   "execution_count": 2,
   "id": "b46797db",
   "metadata": {},
   "outputs": [
    {
     "name": "stdout",
     "output_type": "stream",
     "text": [
      "[1 2 3 4]\n",
      "<class 'numpy.ndarray'>\n"
     ]
    },
    {
     "data": {
      "text/plain": [
       "array([1, 2, 3, 4])"
      ]
     },
     "execution_count": 2,
     "metadata": {},
     "output_type": "execute_result"
    }
   ],
   "source": [
    "y = np.array([1,2,3,4])\n",
    "print(y)\n",
    "print(type(y))\n",
    "y"
   ]
  },
  {
   "cell_type": "code",
   "execution_count": 3,
   "id": "9bdb0d05",
   "metadata": {},
   "outputs": [
    {
     "name": "stdout",
     "output_type": "stream",
     "text": [
      "Enter:1\n",
      "Enter:2\n",
      "Enter:3\n",
      "Enter:4\n",
      "Enter:5\n",
      "[1 2 3 4 5]\n"
     ]
    }
   ],
   "source": [
    "l = []\n",
    "for i in range(5):\n",
    "    int_i = int(input(\"Enter:\"))\n",
    "    l.append(int_i)\n",
    "x = np.array(l)\n",
    "print(x)"
   ]
  },
  {
   "cell_type": "code",
   "execution_count": 17,
   "id": "53265773",
   "metadata": {},
   "outputs": [
    {
     "name": "stdout",
     "output_type": "stream",
     "text": [
      "1\n"
     ]
    }
   ],
   "source": [
    "# ndim function is used to find the dimension of an array\n",
    "print(x.ndim)"
   ]
  },
  {
   "cell_type": "code",
   "execution_count": 18,
   "id": "dfe7869a",
   "metadata": {},
   "outputs": [
    {
     "name": "stdout",
     "output_type": "stream",
     "text": [
      "[[1 2 3 4]\n",
      " [1 2 3 4]]\n",
      "2\n"
     ]
    }
   ],
   "source": [
    "ar2 = np.array([[1,2,3,4],[1,2,3,4]])\n",
    "print(ar2)\n",
    "print(ar2.ndim)"
   ]
  },
  {
   "cell_type": "code",
   "execution_count": 20,
   "id": "dca53e16",
   "metadata": {},
   "outputs": [
    {
     "name": "stdout",
     "output_type": "stream",
     "text": [
      "[[[1 2 3 4]\n",
      "  [1 2 3 4]\n",
      "  [1 2 3 4]]]\n",
      "3\n"
     ]
    }
   ],
   "source": [
    "ar3 = np.array([[[1,2,3,4],[1,2,3,4],[1,2,3,4]]])\n",
    "print(ar3)\n",
    "print(ar3.ndim)"
   ]
  },
  {
   "cell_type": "code",
   "execution_count": 5,
   "id": "0f274849",
   "metadata": {},
   "outputs": [
    {
     "name": "stdout",
     "output_type": "stream",
     "text": [
      "[[[[[[[[[[1 2 3 4]]]]]]]]]]\n",
      "10\n"
     ]
    }
   ],
   "source": [
    "# ndmin function is used to create multidimensional array \n",
    "arn = np.array([1,2,3,4],ndmin = 10)\n",
    "print(arn)\n",
    "print(arn.ndim)"
   ]
  },
  {
   "cell_type": "code",
   "execution_count": 9,
   "id": "6dd2bfdb",
   "metadata": {},
   "outputs": [
    {
     "name": "stdout",
     "output_type": "stream",
     "text": [
      "[0. 0. 0. 0.]\n",
      "\n",
      "[0 0 0 0]\n",
      "\n",
      "[[0 0 0 0]\n",
      " [0 0 0 0]\n",
      " [0 0 0 0]]\n"
     ]
    }
   ],
   "source": [
    "# array filled with 0's\n",
    "arr = np.zeros(4)\n",
    "arr_zero = np.zeros(4,dtype = int)\n",
    "arr_zero1 = np.zeros((3,4),dtype = int)\n",
    "print(arr)\n",
    "print()\n",
    "print(arr_zero)\n",
    "print()\n",
    "print(arr_zero1)"
   ]
  },
  {
   "cell_type": "code",
   "execution_count": 16,
   "id": "0503d781",
   "metadata": {},
   "outputs": [
    {
     "name": "stdout",
     "output_type": "stream",
     "text": [
      "[1 1 1 1]\n",
      "\n",
      "[[1 1 1 1]\n",
      " [1 1 1 1]\n",
      " [1 1 1 1]]\n"
     ]
    }
   ],
   "source": [
    "# array filled with 1's\n",
    "arr_ones = np.ones(4,dtype = int)\n",
    "arr_ones1 = np.ones((3,4),dtype = int)\n",
    "print(arr_one)\n",
    "print()\n",
    "print(arr_ones1)"
   ]
  },
  {
   "cell_type": "code",
   "execution_count": 20,
   "id": "d4ea2cbf",
   "metadata": {},
   "outputs": [
    {
     "name": "stdout",
     "output_type": "stream",
     "text": [
      "[0 0 0 0]\n"
     ]
    }
   ],
   "source": [
    "# Empty Array\n",
    "empty = np.empty(4,dtype = int)\n",
    "print(empty)"
   ]
  },
  {
   "cell_type": "code",
   "execution_count": 12,
   "id": "416e323f",
   "metadata": {},
   "outputs": [
    {
     "name": "stdout",
     "output_type": "stream",
     "text": [
      "[0 1 2 3 4 5 6 7 8]\n"
     ]
    }
   ],
   "source": [
    "# array of particular range\n",
    "arr_range = np.arange(9)\n",
    "print(arr_range)"
   ]
  },
  {
   "cell_type": "code",
   "execution_count": 28,
   "id": "3f892476",
   "metadata": {},
   "outputs": [
    {
     "name": "stdout",
     "output_type": "stream",
     "text": [
      "[[1 0 0]\n",
      " [0 1 0]\n",
      " [0 0 1]]\n",
      "\n",
      "[[1 0 0 0 0]\n",
      " [0 1 0 0 0]\n",
      " [0 0 1 0 0]]\n"
     ]
    }
   ],
   "source": [
    "# Array diagonal element filled with 1's\n",
    "arr_diagonal = np.eye(3,dtype = int)\n",
    "arr_diagonal1 = np.eye(3,5,dtype=int)\n",
    "print(arr_diagonal)\n",
    "print()\n",
    "print(arr_diagonal1)"
   ]
  },
  {
   "cell_type": "code",
   "execution_count": 36,
   "id": "5163323d",
   "metadata": {},
   "outputs": [
    {
     "name": "stdout",
     "output_type": "stream",
     "text": [
      "[ 0.   2.5  5.   7.5 10. ]\n"
     ]
    }
   ],
   "source": [
    "# Array with special interval\n",
    "arr_lin = np.linspace(0,10,num=5)\n",
    "print(arr_lin)"
   ]
  },
  {
   "cell_type": "code",
   "execution_count": 13,
   "id": "d8f9c32a",
   "metadata": {},
   "outputs": [
    {
     "name": "stdout",
     "output_type": "stream",
     "text": [
      "[ 0.          1.11111111  2.22222222  3.33333333  4.44444444  5.55555556\n",
      "  6.66666667  7.77777778  8.88888889 10.        ]\n"
     ]
    }
   ],
   "source": [
    "arr_lin = np.linspace(0,10,num=10)\n",
    "print(arr_lin)"
   ]
  },
  {
   "cell_type": "markdown",
   "id": "d84b5657",
   "metadata": {},
   "source": [
    "# Random"
   ]
  },
  {
   "cell_type": "code",
   "execution_count": 41,
   "id": "97ef2298",
   "metadata": {},
   "outputs": [
    {
     "name": "stdout",
     "output_type": "stream",
     "text": [
      "[0.20768728 0.25680953 0.98249671]\n",
      "\n",
      "[[0.60398564 0.85866386 0.11371147 0.10596726 0.69389598]\n",
      " [0.21765677 0.23257873 0.16660515 0.46063948 0.5210501 ]\n",
      " [0.22288394 0.18730357 0.62772403 0.11603192 0.96071368]]\n"
     ]
    }
   ],
   "source": [
    "# Create Numpy array with random numbers\n",
    "# rand() - generate a random value between 0 to 1\n",
    "# randn() - generate a random value close to zero either +ve or -ve\n",
    "# ranf() - it return an array of specified shape and fill it with half open interval [0.0,1.0) [-0.0 is included, ) - 1.0 not included\n",
    "# randint() - g enerate a random value between a given range.\n",
    "\n",
    "# rand()\n",
    "\n",
    "import numpy as np\n",
    "var = np.random.rand(3)\n",
    "var1 = np.random.rand(3,5)\n",
    "print(var)\n",
    "print()\n",
    "print(var1)"
   ]
  },
  {
   "cell_type": "code",
   "execution_count": 45,
   "id": "c02c72e1",
   "metadata": {},
   "outputs": [
    {
     "name": "stdout",
     "output_type": "stream",
     "text": [
      "[-0.02717498 -1.51433871 -0.35920398]\n",
      "\n",
      "[[-0.84104585 -0.34650205  0.18264254 -0.89435889 -0.59807961]\n",
      " [ 1.99643436 -0.77378274 -2.27708139 -0.39163694 -1.08298025]\n",
      " [-0.83537827 -0.89162828  0.56429133  0.03919371 -0.21460998]]\n"
     ]
    }
   ],
   "source": [
    "# randn()\n",
    "var = np.random.randn(3)\n",
    "var1 = np.random.randn(3,5)\n",
    "print(var)\n",
    "print()\n",
    "print(var1)"
   ]
  },
  {
   "cell_type": "code",
   "execution_count": 50,
   "id": "fca71733",
   "metadata": {},
   "outputs": [
    {
     "name": "stdout",
     "output_type": "stream",
     "text": [
      "[0.3311058  0.05452538 0.61914561 0.93489359 0.55339366]\n",
      "\n",
      "[[0.53922648 0.44193345 0.10251131 0.73745101 0.99899091]\n",
      " [0.10558491 0.27623218 0.09333573 0.57979624 0.25679917]\n",
      " [0.4410595  0.99639421 0.4875064  0.81937831 0.8508352 ]\n",
      " [0.57033171 0.96861461 0.87995431 0.27600168 0.58388522]\n",
      " [0.23138259 0.36045709 0.65592486 0.81657749 0.20570596]]\n"
     ]
    }
   ],
   "source": [
    "# ranf()\n",
    "var = np.random.ranf(5)\n",
    "var1 = np.random.ranf((5,5))\n",
    "print(var)\n",
    "print()\n",
    "print(var1)"
   ]
  },
  {
   "cell_type": "code",
   "execution_count": 52,
   "id": "2d01314e",
   "metadata": {},
   "outputs": [
    {
     "name": "stdout",
     "output_type": "stream",
     "text": [
      "[71 63 58 76  1]\n"
     ]
    }
   ],
   "source": [
    "# randint()\n",
    "var = np.random.randint(0,100,5)\n",
    "print(var)"
   ]
  },
  {
   "cell_type": "markdown",
   "id": "79353ded",
   "metadata": {},
   "source": [
    "# Data Types in Numpy"
   ]
  },
  {
   "cell_type": "code",
   "execution_count": 54,
   "id": "0382a5c7",
   "metadata": {},
   "outputs": [
    {
     "name": "stdout",
     "output_type": "stream",
     "text": [
      "Data Type:  <U11\n"
     ]
    }
   ],
   "source": [
    "import numpy as np\n",
    "\n",
    "arr = np.array([1,2,3,4])\n",
    "print(\"Data Type: \",arr.dtype)"
   ]
  },
  {
   "cell_type": "code",
   "execution_count": 55,
   "id": "c5b732a8",
   "metadata": {},
   "outputs": [
    {
     "name": "stdout",
     "output_type": "stream",
     "text": [
      "Data Type:  float64\n"
     ]
    }
   ],
   "source": [
    "arr = np.array([1.0,2.11,3.33,4.24])\n",
    "print(\"Data Type: \",arr.dtype)"
   ]
  },
  {
   "cell_type": "code",
   "execution_count": 57,
   "id": "002a7669",
   "metadata": {},
   "outputs": [
    {
     "name": "stdout",
     "output_type": "stream",
     "text": [
      "Data Type:  <U7\n"
     ]
    }
   ],
   "source": [
    "arr = np.array([\"Hi\",\"Bye\",\"Hellooo\",\"Nice\"])\n",
    "print(\"Data Type: \",arr.dtype)"
   ]
  },
  {
   "cell_type": "code",
   "execution_count": 59,
   "id": "227d58f7",
   "metadata": {},
   "outputs": [
    {
     "name": "stdout",
     "output_type": "stream",
     "text": [
      "Data Type:  <U11\n"
     ]
    }
   ],
   "source": [
    "arr = np.array([1,2,3,4,\"Hi\",\"Bye\",\"Hellooooo\",\"Nice\"])\n",
    "print(\"Data Type: \",arr.dtype)"
   ]
  },
  {
   "cell_type": "code",
   "execution_count": 60,
   "id": "89f54050",
   "metadata": {},
   "outputs": [],
   "source": [
    "# i - Integer\n",
    "# b - Boolean\n",
    "# u - Unsigned Integer\n",
    "# f - Float\n",
    "# c - Complex Float\n",
    "# m - Timedelta\n",
    "# M - Datetime\n",
    "# O - Object\n",
    "# S - String\n",
    "# U - Unicode String\n",
    "# V - The Fixed Chunk Of Memory For Other Types (Void)"
   ]
  },
  {
   "cell_type": "markdown",
   "id": "b34b6582",
   "metadata": {},
   "source": [
    "# Conversion"
   ]
  },
  {
   "cell_type": "code",
   "execution_count": 3,
   "id": "2231f8e6",
   "metadata": {},
   "outputs": [
    {
     "name": "stdout",
     "output_type": "stream",
     "text": [
      "Data Type:  int32\n",
      "[1 2 3 4]\n",
      "Data Type:  int8\n",
      "[1 2 3 4]\n"
     ]
    }
   ],
   "source": [
    "x = np.array([1,2,3,4])\n",
    "print(\"Data Type: \",x.dtype)\n",
    "print(x)\n",
    "x = np.array([1,2,3,4],dtype = np.int8)\n",
    "print(\"Data Type: \",x.dtype)\n",
    "print(x)"
   ]
  },
  {
   "cell_type": "code",
   "execution_count": 65,
   "id": "78ecb981",
   "metadata": {},
   "outputs": [
    {
     "name": "stdout",
     "output_type": "stream",
     "text": [
      "Data Type:  float32\n",
      "[1. 2. 3. 4.]\n"
     ]
    }
   ],
   "source": [
    "x1 = np.array([1,2,3,4],dtype = \"f\")\n",
    "print(\"Data Type: \",x1.dtype)\n",
    "print(x1)"
   ]
  },
  {
   "cell_type": "code",
   "execution_count": 5,
   "id": "ded9fc45",
   "metadata": {},
   "outputs": [
    {
     "name": "stdout",
     "output_type": "stream",
     "text": [
      "Data Type:  int32\n",
      "[1 2 3 4]\n",
      "Data Type:  float32\n",
      "[1. 2. 3. 4.]\n"
     ]
    }
   ],
   "source": [
    "x2 = np.array([1,2,3,4])\n",
    "new = np.float32(x2)\n",
    "print(\"Data Type: \",x2.dtype)\n",
    "print(x2)\n",
    "print(\"Data Type: \",new.dtype)\n",
    "print(new)"
   ]
  },
  {
   "cell_type": "code",
   "execution_count": 67,
   "id": "9486c322",
   "metadata": {},
   "outputs": [
    {
     "name": "stdout",
     "output_type": "stream",
     "text": [
      "Data Type:  int32\n",
      "[1 2 3 4]\n",
      "Data Type:  float32\n",
      "[1. 2. 3. 4.]\n",
      "Data Type:  int64\n",
      "[1 2 3 4]\n"
     ]
    }
   ],
   "source": [
    "x2 = np.array([1,2,3,4])\n",
    "new = np.float32(x2)\n",
    "new1 = np.int64(new)\n",
    "print(\"Data Type: \",x2.dtype)\n",
    "print(x2)\n",
    "print(\"Data Type: \",new.dtype)\n",
    "print(new)\n",
    "print(\"Data Type: \",new1.dtype)\n",
    "print(new1)"
   ]
  },
  {
   "cell_type": "code",
   "execution_count": 68,
   "id": "815107fe",
   "metadata": {},
   "outputs": [
    {
     "name": "stdout",
     "output_type": "stream",
     "text": [
      "Data Type:  int32\n",
      "[1 2 3 4]\n",
      "Data Type:  float64\n",
      "[1. 2. 3. 4.]\n"
     ]
    }
   ],
   "source": [
    "x3 = np.array([1,2,3,4])\n",
    "print(\"Data Type: \",x3.dtype)\n",
    "print(x3)\n",
    "new2 = x3.astype(float)\n",
    "print(\"Data Type: \",new2.dtype)\n",
    "print(new2)"
   ]
  },
  {
   "cell_type": "markdown",
   "id": "289abdd1",
   "metadata": {},
   "source": [
    "# Arithmetic Operations in Array"
   ]
  },
  {
   "cell_type": "code",
   "execution_count": 69,
   "id": "9cb95889",
   "metadata": {},
   "outputs": [
    {
     "name": "stdout",
     "output_type": "stream",
     "text": [
      "[2 3 4 5]\n"
     ]
    }
   ],
   "source": [
    "import numpy as np\n",
    "var = np.array([1,2,3,4])\n",
    "varadd = var + 1\n",
    "print(varadd)"
   ]
  },
  {
   "cell_type": "code",
   "execution_count": 7,
   "id": "20910b35",
   "metadata": {},
   "outputs": [
    {
     "name": "stdout",
     "output_type": "stream",
     "text": [
      "[2 3 4 5]\n"
     ]
    }
   ],
   "source": [
    "var = np.array([1,2,3,4])\n",
    "varadd = np.add(var,1)\n",
    "print(varadd)"
   ]
  },
  {
   "cell_type": "code",
   "execution_count": 70,
   "id": "c11a7097",
   "metadata": {},
   "outputs": [
    {
     "name": "stdout",
     "output_type": "stream",
     "text": [
      "[2 4 6 8]\n"
     ]
    }
   ],
   "source": [
    "var1 = np.array([1,2,3,4])\n",
    "var2 = np.array([1,2,3,4])\n",
    "varadd = var1 + var2\n",
    "print(varadd)"
   ]
  },
  {
   "cell_type": "code",
   "execution_count": 76,
   "id": "f5defbab",
   "metadata": {},
   "outputs": [
    {
     "name": "stdout",
     "output_type": "stream",
     "text": [
      "[2 4 6 8]\n"
     ]
    }
   ],
   "source": [
    "var1 = np.array([1,2,3,4])\n",
    "var2 = np.array([1,2,3,4])\n",
    "varadd = np.add(var1,var2)\n",
    "print(varadd)"
   ]
  },
  {
   "cell_type": "code",
   "execution_count": 8,
   "id": "814ce566",
   "metadata": {},
   "outputs": [
    {
     "name": "stdout",
     "output_type": "stream",
     "text": [
      "[0 1 2 3]\n"
     ]
    }
   ],
   "source": [
    "var = np.array([1,2,3,4])\n",
    "varsub = var - 1\n",
    "print(varsub)"
   ]
  },
  {
   "cell_type": "code",
   "execution_count": 9,
   "id": "414dbda4",
   "metadata": {},
   "outputs": [
    {
     "name": "stdout",
     "output_type": "stream",
     "text": [
      "[0 1 2 3]\n"
     ]
    }
   ],
   "source": [
    "var1 = np.array([1,2,3,4])\n",
    "var2 = np.array([1,2,3,4])\n",
    "varsub = np.subtract(var1,1)\n",
    "print(varsub)"
   ]
  },
  {
   "cell_type": "code",
   "execution_count": 10,
   "id": "96b4e986",
   "metadata": {},
   "outputs": [
    {
     "name": "stdout",
     "output_type": "stream",
     "text": [
      "[ 0  2  2 -1]\n"
     ]
    }
   ],
   "source": [
    "var1 = np.array([1,2,3,4])\n",
    "var2 = np.array([1,0,1,5])\n",
    "varsub = np.subtract(var1,var2)\n",
    "print(varsub)"
   ]
  },
  {
   "cell_type": "code",
   "execution_count": 16,
   "id": "9451929b",
   "metadata": {},
   "outputs": [
    {
     "name": "stdout",
     "output_type": "stream",
     "text": [
      "[2 4 6 8]\n",
      "[ 3  6  9 12]\n"
     ]
    }
   ],
   "source": [
    "var = np.array([1,2,3,4])\n",
    "\n",
    "varmul = var * 2\n",
    "print(varmul)\n",
    "\n",
    "varmul = np.multiply(var,3)\n",
    "print(varmul)"
   ]
  },
  {
   "cell_type": "code",
   "execution_count": 19,
   "id": "b7456ef0",
   "metadata": {},
   "outputs": [
    {
     "name": "stdout",
     "output_type": "stream",
     "text": [
      "[0.5 1.  1.5 2. ]\n",
      "[0.5 1.  1.5 2. ]\n"
     ]
    }
   ],
   "source": [
    "var = np.array([1,2,3,4])\n",
    "vardiv = var / 2\n",
    "print(vardiv)\n",
    "vardiv = np.divide(var,2)\n",
    "print(vardiv)"
   ]
  },
  {
   "cell_type": "code",
   "execution_count": 20,
   "id": "fca9429f",
   "metadata": {},
   "outputs": [
    {
     "name": "stdout",
     "output_type": "stream",
     "text": [
      "[1 0 1 0]\n",
      "[1 0 1 0]\n"
     ]
    }
   ],
   "source": [
    "var = np.array([1,2,3,4])\n",
    "varmod = var % 2\n",
    "print(varmod)\n",
    "varmod = np.mod(var,2)\n",
    "print(varmod)"
   ]
  },
  {
   "cell_type": "code",
   "execution_count": 15,
   "id": "316761c0",
   "metadata": {},
   "outputs": [
    {
     "name": "stdout",
     "output_type": "stream",
     "text": [
      "[1 0 0 0]\n"
     ]
    }
   ],
   "source": [
    "var1 = np.array([1,2,3,4])\n",
    "varreci = np.reciprocal(var1)\n",
    "print(varreci)"
   ]
  },
  {
   "cell_type": "markdown",
   "id": "2d88735d",
   "metadata": {},
   "source": [
    "# 2D Array"
   ]
  },
  {
   "cell_type": "code",
   "execution_count": 22,
   "id": "3a08e053",
   "metadata": {},
   "outputs": [
    {
     "name": "stdout",
     "output_type": "stream",
     "text": [
      "[[1 2 3 4]\n",
      " [1 2 3 4]]\n",
      "\n",
      "[[1 2 3 4]\n",
      " [1 2 3 4]]\n",
      "\n",
      "[[2 4 6 8]\n",
      " [2 4 6 8]]\n"
     ]
    }
   ],
   "source": [
    "var21 = np.array([[1,2,3,4],[1,2,3,4]])\n",
    "var22 = np.array([[1,2,3,4],[1,2,3,4]])\n",
    "print(var21)\n",
    "print()\n",
    "print(var22)\n",
    "print()\n",
    "varadd2 = var21 + var22\n",
    "print(varadd2)"
   ]
  },
  {
   "cell_type": "markdown",
   "id": "6036d11c",
   "metadata": {},
   "source": [
    "# Some more Arithmetic Function"
   ]
  },
  {
   "cell_type": "code",
   "execution_count": 90,
   "id": "5f8ae16c",
   "metadata": {},
   "outputs": [
    {
     "name": "stdout",
     "output_type": "stream",
     "text": [
      "min in var:  1\n",
      "max in var:  5\n",
      "position of min:  0\n",
      "position of max:  4\n",
      "Sqrt :  [1.         1.41421356 1.73205081 2.         2.23606798 1.73205081\n",
      " 1.41421356]\n"
     ]
    }
   ],
   "source": [
    "import numpy as np\n",
    "\n",
    "var = np.array([1,2,3,4,5,3,2])\n",
    "\n",
    "print(\"min in var: \",np.min(var))\n",
    "print(\"max in var: \",np.max(var))\n",
    "print(\"position of min: \",np.argmin(var))\n",
    "print(\"position of max: \",np.argmax(var))\n",
    "print(\"Sqrt : \",np.sqrt(var))"
   ]
  },
  {
   "cell_type": "code",
   "execution_count": 95,
   "id": "9cadd654",
   "metadata": {},
   "outputs": [
    {
     "name": "stdout",
     "output_type": "stream",
     "text": [
      "min in var:  [1 5]\n",
      "max in var:  [9 5 6]\n",
      "position of min:  1\n",
      "position of max:  3\n",
      "[ 2  3  6 15 20 26]\n"
     ]
    }
   ],
   "source": [
    "var1 = np.array([[2,1,3],[9,5,6]])\n",
    "\n",
    "print(\"min in var: \",np.min(var1,axis = 1))   # for row we use axis = 1 and for column we use axis = 0\n",
    "print(\"max in var: \",np.max(var1, axis = 0))\n",
    "print(\"position of min: \",np.argmin(var1))\n",
    "print(\"position of max: \",np.argmax(var1))"
   ]
  },
  {
   "cell_type": "code",
   "execution_count": 94,
   "id": "fa28009c",
   "metadata": {},
   "outputs": [
    {
     "name": "stdout",
     "output_type": "stream",
     "text": [
      "[0.84147098 0.90929743 0.14112001]\n",
      "[ 0.54030231 -0.41614684 -0.9899925 ]\n",
      "[1 3 6]\n"
     ]
    }
   ],
   "source": [
    "var2 = np.array([1,2,3])\n",
    "print(np.sin(var2))\n",
    "print(np.cos(var2))\n",
    "print(np.cumsum(var2))"
   ]
  },
  {
   "cell_type": "code",
   "execution_count": 96,
   "id": "3b3d9c03",
   "metadata": {},
   "outputs": [
    {
     "name": "stdout",
     "output_type": "stream",
     "text": [
      "[ 2  3  6 15 20 26]\n"
     ]
    }
   ],
   "source": [
    "var1 = np.array([[2,1,3],[9,5,6]])\n",
    "print(np.cumsum(var1))"
   ]
  },
  {
   "cell_type": "markdown",
   "id": "ad170bd2",
   "metadata": {},
   "source": [
    "# Shape"
   ]
  },
  {
   "cell_type": "code",
   "execution_count": 99,
   "id": "eab71125",
   "metadata": {},
   "outputs": [
    {
     "name": "stdout",
     "output_type": "stream",
     "text": [
      "[[1 2]\n",
      " [1 2]]\n",
      "2\n",
      "(2, 2)\n"
     ]
    }
   ],
   "source": [
    "import numpy as np\n",
    "\n",
    "var = np.array([[1,2],[1,2]])\n",
    "print(var)\n",
    "print(var.ndim)\n",
    "print(var.shape)"
   ]
  },
  {
   "cell_type": "code",
   "execution_count": 103,
   "id": "8b923c6c",
   "metadata": {},
   "outputs": [
    {
     "name": "stdout",
     "output_type": "stream",
     "text": [
      "[[[[1.  2.  3.4 5. ]]]]\n",
      "4\n",
      "(1, 1, 1, 4)\n"
     ]
    }
   ],
   "source": [
    "var1 = np.array([1,2,3.4,5],ndmin=4)\n",
    "print(var1)\n",
    "print(var1.ndim)\n",
    "print(var1.shape)"
   ]
  },
  {
   "cell_type": "markdown",
   "id": "5f916d8c",
   "metadata": {},
   "source": [
    "# Reshape"
   ]
  },
  {
   "cell_type": "code",
   "execution_count": 105,
   "id": "c8909771",
   "metadata": {},
   "outputs": [
    {
     "name": "stdout",
     "output_type": "stream",
     "text": [
      "[1 2 3 4 5 6]\n",
      "1\n",
      "[[1 2]\n",
      " [3 4]\n",
      " [5 6]]\n",
      "2\n"
     ]
    }
   ],
   "source": [
    "var2 = np.array([1,2,3,4,5,6])\n",
    "print(var2)\n",
    "print(var2.ndim)\n",
    "x = var2.reshape(3,2)\n",
    "print(x)\n",
    "print(x.ndim)"
   ]
  },
  {
   "cell_type": "code",
   "execution_count": 112,
   "id": "19552a2d",
   "metadata": {},
   "outputs": [
    {
     "name": "stdout",
     "output_type": "stream",
     "text": [
      "[1 2 3 4 5 6 1 2 3 4 5 6]\n",
      "1\n",
      "\n",
      "[[[1 2 3]\n",
      "  [4 5 6]]\n",
      "\n",
      " [[1 2 3]\n",
      "  [4 5 6]]]\n",
      "3\n",
      "\n",
      "[1 2 3 4 5 6 1 2 3 4 5 6]\n",
      "1\n"
     ]
    }
   ],
   "source": [
    "var3 = np.array([1,2,3,4,5,6,1,2,3,4,5,6])\n",
    "print(var3)\n",
    "print(var3.ndim)\n",
    "x1 = var3.reshape(2,2,3)\n",
    "print()\n",
    "print(x1)\n",
    "print(x1.ndim)\n",
    "print()\n",
    "one = x1.reshape(-1) # it will convert any dimension array to 1 dimension array\n",
    "print(one)\n",
    "print(one.ndim)"
   ]
  },
  {
   "cell_type": "markdown",
   "id": "0410512a",
   "metadata": {},
   "source": [
    "# Broadcasting in numpy array"
   ]
  },
  {
   "cell_type": "code",
   "execution_count": 116,
   "id": "62f52ce0",
   "metadata": {},
   "outputs": [
    {
     "name": "stdout",
     "output_type": "stream",
     "text": [
      "[1 2 3 4]\n",
      "(4,)\n",
      "1\n",
      "[[1]\n",
      " [2]\n",
      " [3]]\n",
      "(3, 1)\n",
      "2\n",
      "[[2 3 4 5]\n",
      " [3 4 5 6]\n",
      " [4 5 6 7]]\n"
     ]
    }
   ],
   "source": [
    "import numpy as np\n",
    "var1 = np.array([1,2,3,4])\n",
    "print(var1)\n",
    "print(var1.shape)\n",
    "print(var1.ndim)\n",
    "var2 = np.array([[1],[2],[3]])\n",
    "print(var2)\n",
    "print(var2.shape)\n",
    "print(var2.ndim)\n",
    "print(var1 + var2)"
   ]
  },
  {
   "cell_type": "markdown",
   "id": "8a199995",
   "metadata": {},
   "source": [
    "# Indexing in Numpy Array"
   ]
  },
  {
   "cell_type": "code",
   "execution_count": 119,
   "id": "0d9ec717",
   "metadata": {},
   "outputs": [
    {
     "name": "stdout",
     "output_type": "stream",
     "text": [
      "9\n",
      "6\n",
      "8\n"
     ]
    }
   ],
   "source": [
    "import numpy as np\n",
    "\n",
    "var = np.array([9,8,7,6])\n",
    "print(var[0])\n",
    "print(var[3])\n",
    "print(var[-3])"
   ]
  },
  {
   "cell_type": "code",
   "execution_count": 122,
   "id": "5911bc4b",
   "metadata": {},
   "outputs": [
    {
     "name": "stdout",
     "output_type": "stream",
     "text": [
      "[[ 1  2  3  4]\n",
      " [ 5  6  7  8]\n",
      " [ 9 10 11 12]]\n",
      "4\n",
      "10\n"
     ]
    }
   ],
   "source": [
    "var1 = np.array([[1,2,3,4],[5,6,7,8],[9,10,11,12]])\n",
    "print(var1)\n",
    "print(var1[0][3])\n",
    "print(var1[2][1])"
   ]
  },
  {
   "cell_type": "code",
   "execution_count": 123,
   "id": "aa082eb7",
   "metadata": {},
   "outputs": [
    {
     "name": "stdout",
     "output_type": "stream",
     "text": [
      "[[[ 1  2  3  4]\n",
      "  [ 5  6  7  8]]\n",
      "\n",
      " [[ 9 10 11 12]\n",
      "  [13 14 15 16]]]\n",
      "1\n",
      "15\n"
     ]
    }
   ],
   "source": [
    "var1 = np.array([[[1,2,3,4],[5,6,7,8]],[[9,10,11,12],[13,14,15,16]]])\n",
    "print(var1)\n",
    "print(var1[0][0][0])\n",
    "print(var1[1][1][2])"
   ]
  },
  {
   "cell_type": "markdown",
   "id": "662d1ade",
   "metadata": {},
   "source": [
    "# Slicing in Numpy Array"
   ]
  },
  {
   "cell_type": "code",
   "execution_count": 125,
   "id": "ef3ad3e7",
   "metadata": {},
   "outputs": [
    {
     "name": "stdout",
     "output_type": "stream",
     "text": [
      "[9 8]\n",
      "[9 8 7 6]\n"
     ]
    }
   ],
   "source": [
    "var = np.array([9,8,7,6])\n",
    "print(var[0:2])\n",
    "print(var[0:])"
   ]
  },
  {
   "cell_type": "code",
   "execution_count": 127,
   "id": "f27efb93",
   "metadata": {},
   "outputs": [
    {
     "name": "stdout",
     "output_type": "stream",
     "text": [
      "[2 3]\n"
     ]
    }
   ],
   "source": [
    "var1 = np.array([[1,2,3,4],[5,6,7,8],[9,10,11,12]])\n",
    "print(var1[0][1:3])"
   ]
  },
  {
   "cell_type": "markdown",
   "id": "460c9d4e",
   "metadata": {},
   "source": [
    "# Iteration"
   ]
  },
  {
   "cell_type": "code",
   "execution_count": 1,
   "id": "445ac38a",
   "metadata": {},
   "outputs": [
    {
     "name": "stdout",
     "output_type": "stream",
     "text": [
      "[9 8 7 6 5 4]\n",
      "\n",
      "9\n",
      "8\n",
      "7\n",
      "6\n",
      "5\n",
      "4\n"
     ]
    }
   ],
   "source": [
    "import numpy as np\n",
    "var = np.array([9,8,7,6,5,4])\n",
    "print(var)\n",
    "print()\n",
    "for i in var:\n",
    "    print(i)"
   ]
  },
  {
   "cell_type": "code",
   "execution_count": 4,
   "id": "40c746d4",
   "metadata": {},
   "outputs": [
    {
     "name": "stdout",
     "output_type": "stream",
     "text": [
      "[[9 8 7 6 5 4]\n",
      " [1 2 3 4 5 6]]\n",
      "\n",
      "[9 8 7 6 5 4]\n",
      "9\n",
      "8\n",
      "7\n",
      "6\n",
      "5\n",
      "4\n",
      "\n",
      "[1 2 3 4 5 6]\n",
      "1\n",
      "2\n",
      "3\n",
      "4\n",
      "5\n",
      "6\n",
      "\n"
     ]
    }
   ],
   "source": [
    "var1 = np.array([[9,8,7,6,5,4],[1,2,3,4,5,6]])\n",
    "print(var1)\n",
    "print()\n",
    "for i in var1:\n",
    "    print(i)\n",
    "    for j in i:\n",
    "        print(j)\n",
    "    print()"
   ]
  },
  {
   "cell_type": "code",
   "execution_count": 9,
   "id": "078ea3b1",
   "metadata": {},
   "outputs": [
    {
     "name": "stdout",
     "output_type": "stream",
     "text": [
      "b'9'\n",
      "b'8'\n",
      "b'7'\n",
      "b'6'\n",
      "b'5'\n",
      "b'4'\n",
      "b'1'\n",
      "b'2'\n",
      "b'3'\n",
      "b'4'\n",
      "b'5'\n",
      "b'6'\n"
     ]
    }
   ],
   "source": [
    "var2 = np.array([[9,8,7,6,5,4],[1,2,3,4,5,6]])\n",
    "for i in np.nditer(var2,flags=['buffered'],op_dtypes=[\"S\"]):\n",
    "    print(i)"
   ]
  },
  {
   "cell_type": "code",
   "execution_count": 11,
   "id": "bcfa8a96",
   "metadata": {},
   "outputs": [
    {
     "name": "stdout",
     "output_type": "stream",
     "text": [
      "(0, 0) 9\n",
      "(0, 1) 8\n",
      "(0, 2) 7\n",
      "(0, 3) 6\n",
      "(0, 4) 5\n",
      "(0, 5) 4\n",
      "(1, 0) 1\n",
      "(1, 1) 2\n",
      "(1, 2) 3\n",
      "(1, 3) 4\n",
      "(1, 4) 5\n",
      "(1, 5) 6\n"
     ]
    }
   ],
   "source": [
    "var1 = np.array([[9,8,7,6,5,4],[1,2,3,4,5,6]])\n",
    "for i,d in np.ndenumerate(var2):\n",
    "    print(i,d)"
   ]
  },
  {
   "cell_type": "markdown",
   "id": "5bd5fc13",
   "metadata": {},
   "source": [
    "# Copy and View"
   ]
  },
  {
   "cell_type": "code",
   "execution_count": 19,
   "id": "98fd1d4f",
   "metadata": {},
   "outputs": [
    {
     "name": "stdout",
     "output_type": "stream",
     "text": [
      "var : [ 1 40  3  4  5]\n",
      "copy : [ 1 40  3  4  5]\n",
      "var : [ 1 40  3  4  5]\n",
      "copy : [1 2 3 4 5]\n"
     ]
    }
   ],
   "source": [
    "import numpy as np\n",
    "var = np.array([1,2,3,4,5])\n",
    "var[1]=40\n",
    "print(\"var :\", var)\n",
    "co = var.copy()\n",
    "print(\"copy :\",co)\n",
    "co[1]=2\n",
    "print(\"var :\", var)\n",
    "print(\"copy :\",co)"
   ]
  },
  {
   "cell_type": "code",
   "execution_count": 21,
   "id": "ab7bb93f",
   "metadata": {},
   "outputs": [
    {
     "name": "stdout",
     "output_type": "stream",
     "text": [
      "x :  [1 2 3 4 5]\n",
      "View :  [1 2 3 4 5]\n",
      "var : [ 1 40  3  4  5]\n",
      "copy : [ 1 40  3  4  5]\n"
     ]
    }
   ],
   "source": [
    "x = np.array([1,2,3,4,5])\n",
    "vi = x.view()\n",
    "print(\"x : \",x)\n",
    "print(\"View : \",vi)\n",
    "vi[1]=40\n",
    "print(\"var :\", x)\n",
    "print(\"copy :\",vi)"
   ]
  },
  {
   "cell_type": "code",
   "execution_count": 22,
   "id": "1c8ca9d5",
   "metadata": {},
   "outputs": [],
   "source": [
    "# Copy Vs View\n",
    "# The copy owns the data, The view does not own the data.\n",
    "# The copy of an array is a new array, A view is the original array.\n",
    "# The changes made in copy data does not reflect in the original array.\n",
    "# Any changes made to the view will affect the original array and vice versa."
   ]
  },
  {
   "cell_type": "markdown",
   "id": "3077f88d",
   "metadata": {},
   "source": [
    "# Join Array"
   ]
  },
  {
   "cell_type": "code",
   "execution_count": 24,
   "id": "8345b171",
   "metadata": {},
   "outputs": [
    {
     "name": "stdout",
     "output_type": "stream",
     "text": [
      "[1 2 3 4 5 9 8 7 6]\n"
     ]
    }
   ],
   "source": [
    "import numpy as np\n",
    "var = np.array([1,2,3,4,5])\n",
    "var1 = np.array([9,8,7,6])\n",
    "arr = np.concatenate((var,var1))\n",
    "print(arr)"
   ]
  },
  {
   "cell_type": "code",
   "execution_count": 30,
   "id": "13c69bdc",
   "metadata": {},
   "outputs": [
    {
     "name": "stdout",
     "output_type": "stream",
     "text": [
      "[[9 8 7 6 5 4 1 2 3 4 5 6]\n",
      " [1 2 3 4 5 6 7 8 9 9 6 7]]\n",
      "\n",
      "[[9 8 7 6 5 4]\n",
      " [1 2 3 4 5 6]\n",
      " [1 2 3 4 5 6]\n",
      " [7 8 9 9 6 7]]\n"
     ]
    }
   ],
   "source": [
    "var2 = np.array([[9,8,7,6,5,4],[1,2,3,4,5,6]])\n",
    "var3 = np.array([[1,2,3,4,5,6],[7,8,9,9,6,7]])\n",
    "arr1 = np.concatenate((var2,var3),axis=1)\n",
    "print(arr1)\n",
    "print()\n",
    "arr2 = np.concatenate((var2,var3),axis=0)\n",
    "print(arr2)"
   ]
  },
  {
   "cell_type": "code",
   "execution_count": 38,
   "id": "d3fed4b7",
   "metadata": {},
   "outputs": [
    {
     "name": "stdout",
     "output_type": "stream",
     "text": [
      "[1 2 3 4 5 9 8 7 6 5]\n",
      "[[1 2 3 4 5]\n",
      " [9 8 7 6 5]]\n",
      "[[[1 9]\n",
      "  [2 8]\n",
      "  [3 7]\n",
      "  [4 6]\n",
      "  [5 5]]]\n",
      "[[1 9]\n",
      " [2 8]\n",
      " [3 7]\n",
      " [4 6]\n",
      " [5 5]]\n"
     ]
    }
   ],
   "source": [
    "var = np.array([1,2,3,4,5])\n",
    "var1 = np.array([9,8,7,6,5])\n",
    "arr3 = np.hstack((var,var1))\n",
    "arr4 = np.vstack((var,var1))\n",
    "arr5 = np.dstack((var,var1))\n",
    "arr6 = np.stack((var,var1),axis=1)\n",
    "print(arr3)\n",
    "print(arr4)\n",
    "print(arr5)\n",
    "print(arr6)"
   ]
  },
  {
   "cell_type": "markdown",
   "id": "4f027c4d",
   "metadata": {},
   "source": [
    "# Function"
   ]
  },
  {
   "cell_type": "code",
   "execution_count": 1,
   "id": "09861480",
   "metadata": {},
   "outputs": [],
   "source": [
    "import numpy as np"
   ]
  },
  {
   "cell_type": "markdown",
   "id": "61954ec6",
   "metadata": {},
   "source": [
    "# Search"
   ]
  },
  {
   "cell_type": "code",
   "execution_count": 11,
   "id": "60205c50",
   "metadata": {},
   "outputs": [
    {
     "name": "stdout",
     "output_type": "stream",
     "text": [
      "(array([1, 4, 6], dtype=int64),)\n",
      "(array([1, 4, 6], dtype=int64),)\n"
     ]
    }
   ],
   "source": [
    "var = np.array([1,2,3,4,2,5,2,5,7,6,7])\n",
    "\n",
    "x = np.where(var == 2)\n",
    "y = np.where(var/2 == 1)\n",
    "print(x)\n",
    "print(y)"
   ]
  },
  {
   "cell_type": "markdown",
   "id": "ceec47cb",
   "metadata": {},
   "source": [
    "# Search Sorted Array"
   ]
  },
  {
   "cell_type": "code",
   "execution_count": 14,
   "id": "9ef85b26",
   "metadata": {},
   "outputs": [
    {
     "name": "stdout",
     "output_type": "stream",
     "text": [
      "3\n",
      "2\n"
     ]
    }
   ],
   "source": [
    "var1 = np.array([1,2,4,6,7,8])\n",
    "x1 = np.searchsorted(var1,5)\n",
    "x3 = np.searchsorted(var1,3,side=\"right\")\n",
    "print(x1)\n",
    "print(x3)"
   ]
  },
  {
   "cell_type": "code",
   "execution_count": 15,
   "id": "3ab327d3",
   "metadata": {},
   "outputs": [
    {
     "name": "stdout",
     "output_type": "stream",
     "text": [
      "[3 4 5]\n"
     ]
    }
   ],
   "source": [
    "var1 = np.array([1,2,4,6,7,8])\n",
    "x1 = np.searchsorted(var1,[5,6,7],side=\"right\")\n",
    "print(x1)"
   ]
  },
  {
   "cell_type": "markdown",
   "id": "ea83d22b",
   "metadata": {},
   "source": [
    "# Sort"
   ]
  },
  {
   "cell_type": "code",
   "execution_count": 16,
   "id": "bbbfd933",
   "metadata": {},
   "outputs": [
    {
     "name": "stdout",
     "output_type": "stream",
     "text": [
      "[1 2 3 4 4 6 6 8 9]\n"
     ]
    }
   ],
   "source": [
    "var = np.array([1,4,6,8,2,3,9,6,4])\n",
    "x = np.sort(var)\n",
    "print(x)"
   ]
  },
  {
   "cell_type": "markdown",
   "id": "c0dad633",
   "metadata": {},
   "source": [
    "# Filter"
   ]
  },
  {
   "cell_type": "code",
   "execution_count": 20,
   "id": "df518125",
   "metadata": {},
   "outputs": [
    {
     "name": "stdout",
     "output_type": "stream",
     "text": [
      "['a' 'f']\n",
      "<class 'numpy.ndarray'>\n"
     ]
    }
   ],
   "source": [
    "var = np.array(['a','s','d','f'])\n",
    "f = [True,False,False,True]\n",
    "new_arr = var[f]\n",
    "print(new_arr)\n",
    "print(type(new_arr))"
   ]
  },
  {
   "cell_type": "markdown",
   "id": "26b47d10",
   "metadata": {},
   "source": [
    "# Shuffle"
   ]
  },
  {
   "cell_type": "code",
   "execution_count": 22,
   "id": "fbd289e7",
   "metadata": {},
   "outputs": [
    {
     "name": "stdout",
     "output_type": "stream",
     "text": [
      "[2 1 3 4 5]\n"
     ]
    }
   ],
   "source": [
    "var = np.array([1,2,3,4,5])\n",
    "np.random.shuffle(var)\n",
    "print(var)"
   ]
  },
  {
   "cell_type": "code",
   "execution_count": 26,
   "id": "96f9cd29",
   "metadata": {},
   "outputs": [
    {
     "name": "stdout",
     "output_type": "stream",
     "text": [
      "(array([1, 2, 3, 4, 5, 6]), array([ 0,  1,  4,  5,  8, 10], dtype=int64))\n",
      "(array([1, 2, 3, 4, 5, 6]), array([1, 3, 3, 4, 3, 2], dtype=int64))\n"
     ]
    }
   ],
   "source": [
    "var = np.array([1,2,2,2,3,4,3,4,5,5,6,6,4,4,3,5])\n",
    "x = np.unique(var,return_index=True)\n",
    "y = np.unique(var,return_counts=True)\n",
    "print(x)\n",
    "print(y)"
   ]
  },
  {
   "cell_type": "code",
   "execution_count": 30,
   "id": "2eca9be8",
   "metadata": {},
   "outputs": [
    {
     "name": "stdout",
     "output_type": "stream",
     "text": [
      "[[1 2 3]\n",
      " [4 5 6]]\n",
      "(2, 3)\n",
      "2\n"
     ]
    }
   ],
   "source": [
    "var = np.array([1,2,3,4,5,6])\n",
    "y = np.resize(var,(2,3))\n",
    "print(y)\n",
    "print(y.shape)\n",
    "print(y.ndim)"
   ]
  },
  {
   "cell_type": "code",
   "execution_count": 10,
   "id": "a979f559",
   "metadata": {},
   "outputs": [
    {
     "name": "stdout",
     "output_type": "stream",
     "text": [
      "[[1 2 3]\n",
      " [4 5 6]]\n",
      "\n",
      "[1 2 3 4 5 6]\n",
      "\n",
      "Flatten:  [1 4 2 5 3 6]\n",
      "\n",
      "Ravel:  [1 2 3 4 5 6]\n",
      "\n",
      "Ravel:  [1 2 3 4 5 6]\n",
      "Ravel:  [1 4 2 5 3 6]\n"
     ]
    }
   ],
   "source": [
    "var = np.array([1,2,3,4,5,6])\n",
    "y = np.resize(var,(2,3))\n",
    "print(y)\n",
    "print()\n",
    "print(y.flatten())\n",
    "print()\n",
    "print(\"Flatten: \",y.flatten(order=\"F\"))\n",
    "print()\n",
    "print(\"Ravel: \",np.ravel(y))\n",
    "print()\n",
    "print(\"Ravel: \",np.ravel(y,order=\"A\"))\n",
    "print(\"Ravel: \",np.ravel(y,order=\"F\"))"
   ]
  },
  {
   "cell_type": "markdown",
   "id": "7f06834b",
   "metadata": {},
   "source": [
    "# Insert"
   ]
  },
  {
   "cell_type": "code",
   "execution_count": 12,
   "id": "c83dab28",
   "metadata": {},
   "outputs": [],
   "source": [
    "import numpy as np"
   ]
  },
  {
   "cell_type": "code",
   "execution_count": 13,
   "id": "6a06c572",
   "metadata": {},
   "outputs": [
    {
     "name": "stdout",
     "output_type": "stream",
     "text": [
      "[1 2 3 4]\n"
     ]
    }
   ],
   "source": [
    "var = np.array([1,2,3,4])\n",
    "print(var)"
   ]
  },
  {
   "cell_type": "code",
   "execution_count": 18,
   "id": "17eaca32",
   "metadata": {},
   "outputs": [
    {
     "name": "stdout",
     "output_type": "stream",
     "text": [
      "[1 2 5 3 4]\n",
      "[1 2 5 3 4 6]\n"
     ]
    }
   ],
   "source": [
    "v = np.insert(var,2,5)\n",
    "print(v)\n",
    "v = np.insert(v,5,6)\n",
    "print(v)"
   ]
  },
  {
   "cell_type": "code",
   "execution_count": 27,
   "id": "3541340d",
   "metadata": {},
   "outputs": [
    {
     "name": "stdout",
     "output_type": "stream",
     "text": [
      "[[1 2 3]\n",
      " [1 2 3]\n",
      " [6 6 6]]\n",
      "\n",
      "[[1 2 6 3]\n",
      " [1 2 6 3]]\n",
      "\n",
      "[[ 1  2 22  3]\n",
      " [ 1  2 23  3]]\n",
      "\n",
      "[[ 1  2  3]\n",
      " [ 1  2  3]\n",
      " [22 23 24]]\n",
      "\n"
     ]
    }
   ],
   "source": [
    "var = np.array([[1,2,3],[1,2,3]])\n",
    "v1 = np.insert(var,2,6,axis=0)\n",
    "print(v1)\n",
    "print()\n",
    "v2 = np.insert(var,2,6,axis=1)\n",
    "print(v2)\n",
    "print()\n",
    "v3 = np.insert(var,2,[22,23],axis=1)\n",
    "print(v3)\n",
    "print()\n",
    "v3 = np.insert(var,2,[22,23,24],axis=0)\n",
    "print(v3)\n",
    "print()"
   ]
  },
  {
   "cell_type": "code",
   "execution_count": 28,
   "id": "71b9caa4",
   "metadata": {},
   "outputs": [
    {
     "name": "stdout",
     "output_type": "stream",
     "text": [
      "[1.  2.  3.  4.  6.5]\n",
      "[[ 1  2  3]\n",
      " [ 1  2  3]\n",
      " [45  2  3]]\n"
     ]
    }
   ],
   "source": [
    "var = np.array([1,2,3,4])\n",
    "x = np.append(var,6.5)\n",
    "print(x)\n",
    "var = np.array([[1,2,3],[1,2,3]])\n",
    "y = np.append(var,[[45,2,3]],axis = 0)\n",
    "print(y)"
   ]
  },
  {
   "cell_type": "markdown",
   "id": "269b2209",
   "metadata": {},
   "source": [
    "# Delet"
   ]
  },
  {
   "cell_type": "code",
   "execution_count": null,
   "id": "b788751d",
   "metadata": {},
   "outputs": [],
   "source": []
  }
 ],
 "metadata": {
  "kernelspec": {
   "display_name": "Python 3 (ipykernel)",
   "language": "python",
   "name": "python3"
  },
  "language_info": {
   "codemirror_mode": {
    "name": "ipython",
    "version": 3
   },
   "file_extension": ".py",
   "mimetype": "text/x-python",
   "name": "python",
   "nbconvert_exporter": "python",
   "pygments_lexer": "ipython3",
   "version": "3.9.12"
  }
 },
 "nbformat": 4,
 "nbformat_minor": 5
}
